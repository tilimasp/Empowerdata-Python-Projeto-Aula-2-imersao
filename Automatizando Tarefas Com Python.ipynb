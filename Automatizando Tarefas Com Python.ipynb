{
 "cells": [
  {
   "cell_type": "markdown",
   "id": "41dea41d",
   "metadata": {},
   "source": [
    "# Problema\n",
    "- Passo 1: Buscar informações de forma automática no site yahoo finanças\n",
    "- Passo 2: Gerar análises dos útimos 6 meses com os dados de fechamento\n",
    "- Passo 3: Enviar e-mail com os resultados da análise"
   ]
  },
  {
   "cell_type": "markdown",
   "id": "5b253cec",
   "metadata": {},
   "source": [
    "# Passo 1"
   ]
  },
  {
   "cell_type": "code",
   "execution_count": 1,
   "id": "e666d41f",
   "metadata": {},
   "outputs": [
    {
     "name": "stdout",
     "output_type": "stream",
     "text": [
      "Requirement already satisfied: yfinance in c:\\users\\tilim\\anaconda3\\lib\\site-packages (0.2.12)\n",
      "Requirement already satisfied: lxml>=4.9.1 in c:\\users\\tilim\\anaconda3\\lib\\site-packages (from yfinance) (4.9.1)\n",
      "Requirement already satisfied: beautifulsoup4>=4.11.1 in c:\\users\\tilim\\anaconda3\\lib\\site-packages (from yfinance) (4.11.1)\n",
      "Requirement already satisfied: pytz>=2022.5 in c:\\users\\tilim\\anaconda3\\lib\\site-packages (from yfinance) (2022.7.1)\n",
      "Requirement already satisfied: cryptography>=3.3.2 in c:\\users\\tilim\\anaconda3\\lib\\site-packages (from yfinance) (37.0.1)\n",
      "Requirement already satisfied: appdirs>=1.4.4 in c:\\users\\tilim\\anaconda3\\lib\\site-packages (from yfinance) (1.4.4)\n",
      "Requirement already satisfied: frozendict>=2.3.4 in c:\\users\\tilim\\anaconda3\\lib\\site-packages (from yfinance) (2.3.5)\n",
      "Requirement already satisfied: requests>=2.26 in c:\\users\\tilim\\anaconda3\\lib\\site-packages (from yfinance) (2.28.1)\n",
      "Requirement already satisfied: numpy>=1.16.5 in c:\\users\\tilim\\anaconda3\\lib\\site-packages (from yfinance) (1.21.5)\n",
      "Requirement already satisfied: pandas>=1.3.0 in c:\\users\\tilim\\anaconda3\\lib\\site-packages (from yfinance) (1.4.4)\n",
      "Requirement already satisfied: html5lib>=1.1 in c:\\users\\tilim\\anaconda3\\lib\\site-packages (from yfinance) (1.1)\n",
      "Requirement already satisfied: multitasking>=0.0.7 in c:\\users\\tilim\\anaconda3\\lib\\site-packages (from yfinance) (0.0.11)\n",
      "Requirement already satisfied: soupsieve>1.2 in c:\\users\\tilim\\anaconda3\\lib\\site-packages (from beautifulsoup4>=4.11.1->yfinance) (2.3.1)\n",
      "Requirement already satisfied: cffi>=1.12 in c:\\users\\tilim\\anaconda3\\lib\\site-packages (from cryptography>=3.3.2->yfinance) (1.15.1)\n",
      "Requirement already satisfied: webencodings in c:\\users\\tilim\\anaconda3\\lib\\site-packages (from html5lib>=1.1->yfinance) (0.5.1)\n",
      "Requirement already satisfied: six>=1.9 in c:\\users\\tilim\\anaconda3\\lib\\site-packages (from html5lib>=1.1->yfinance) (1.16.0)\n",
      "Requirement already satisfied: python-dateutil>=2.8.1 in c:\\users\\tilim\\anaconda3\\lib\\site-packages (from pandas>=1.3.0->yfinance) (2.8.2)\n",
      "Requirement already satisfied: urllib3<1.27,>=1.21.1 in c:\\users\\tilim\\anaconda3\\lib\\site-packages (from requests>=2.26->yfinance) (1.26.11)\n",
      "Requirement already satisfied: charset-normalizer<3,>=2 in c:\\users\\tilim\\anaconda3\\lib\\site-packages (from requests>=2.26->yfinance) (2.0.4)\n",
      "Requirement already satisfied: certifi>=2017.4.17 in c:\\users\\tilim\\anaconda3\\lib\\site-packages (from requests>=2.26->yfinance) (2022.9.14)\n",
      "Requirement already satisfied: idna<4,>=2.5 in c:\\users\\tilim\\anaconda3\\lib\\site-packages (from requests>=2.26->yfinance) (3.3)\n",
      "Requirement already satisfied: pycparser in c:\\users\\tilim\\anaconda3\\lib\\site-packages (from cffi>=1.12->cryptography>=3.3.2->yfinance) (2.21)\n"
     ]
    }
   ],
   "source": [
    "!pip install yfinance "
   ]
  },
  {
   "cell_type": "code",
   "execution_count": 2,
   "id": "884c07b9",
   "metadata": {},
   "outputs": [],
   "source": [
    "import yfinance # importa a biblioteca yfinance para o meu projeto"
   ]
  },
  {
   "cell_type": "code",
   "execution_count": 3,
   "id": "c9ec2280",
   "metadata": {},
   "outputs": [
    {
     "data": {
      "text/plain": [
       "yfinance.Ticker object <PETR4.SA>"
      ]
     },
     "execution_count": 3,
     "metadata": {},
     "output_type": "execute_result"
    }
   ],
   "source": [
    "yfinance.Ticker(\"PETR4.SA\") # Ticker é o código da ação, no caso da petrobras é PETR4.SA. Com este comando eu puxo os dados de cotação da ação\n"
   ]
  },
  {
   "cell_type": "code",
   "execution_count": 4,
   "id": "6450a184",
   "metadata": {},
   "outputs": [],
   "source": [
    "dados = yfinance.Ticker(\"PETR4.SA\") # criando a variavel dados, eu salvo todas as informaçoes de cotacão desta ação na variavel dados\n"
   ]
  },
  {
   "cell_type": "code",
   "execution_count": 5,
   "id": "8be0d6a3",
   "metadata": {},
   "outputs": [
    {
     "data": {
      "text/html": [
       "<div>\n",
       "<style scoped>\n",
       "    .dataframe tbody tr th:only-of-type {\n",
       "        vertical-align: middle;\n",
       "    }\n",
       "\n",
       "    .dataframe tbody tr th {\n",
       "        vertical-align: top;\n",
       "    }\n",
       "\n",
       "    .dataframe thead th {\n",
       "        text-align: right;\n",
       "    }\n",
       "</style>\n",
       "<table border=\"1\" class=\"dataframe\">\n",
       "  <thead>\n",
       "    <tr style=\"text-align: right;\">\n",
       "      <th></th>\n",
       "      <th>Open</th>\n",
       "      <th>High</th>\n",
       "      <th>Low</th>\n",
       "      <th>Close</th>\n",
       "      <th>Volume</th>\n",
       "      <th>Dividends</th>\n",
       "      <th>Stock Splits</th>\n",
       "    </tr>\n",
       "    <tr>\n",
       "      <th>Date</th>\n",
       "      <th></th>\n",
       "      <th></th>\n",
       "      <th></th>\n",
       "      <th></th>\n",
       "      <th></th>\n",
       "      <th></th>\n",
       "      <th></th>\n",
       "    </tr>\n",
       "  </thead>\n",
       "  <tbody>\n",
       "    <tr>\n",
       "      <th>2022-09-23 00:00:00-03:00</th>\n",
       "      <td>27.403363</td>\n",
       "      <td>27.464609</td>\n",
       "      <td>26.047195</td>\n",
       "      <td>26.195936</td>\n",
       "      <td>138630800</td>\n",
       "      <td>0.0</td>\n",
       "      <td>0.0</td>\n",
       "    </tr>\n",
       "    <tr>\n",
       "      <th>2022-09-26 00:00:00-03:00</th>\n",
       "      <td>26.003446</td>\n",
       "      <td>26.318428</td>\n",
       "      <td>25.609721</td>\n",
       "      <td>25.627220</td>\n",
       "      <td>42934600</td>\n",
       "      <td>0.0</td>\n",
       "      <td>0.0</td>\n",
       "    </tr>\n",
       "    <tr>\n",
       "      <th>2022-09-27 00:00:00-03:00</th>\n",
       "      <td>25.950950</td>\n",
       "      <td>26.143438</td>\n",
       "      <td>25.880954</td>\n",
       "      <td>25.959700</td>\n",
       "      <td>71087600</td>\n",
       "      <td>0.0</td>\n",
       "      <td>0.0</td>\n",
       "    </tr>\n",
       "    <tr>\n",
       "      <th>2022-09-28 00:00:00-03:00</th>\n",
       "      <td>25.959699</td>\n",
       "      <td>26.090941</td>\n",
       "      <td>25.006006</td>\n",
       "      <td>25.609720</td>\n",
       "      <td>104670700</td>\n",
       "      <td>0.0</td>\n",
       "      <td>0.0</td>\n",
       "    </tr>\n",
       "    <tr>\n",
       "      <th>2022-09-29 00:00:00-03:00</th>\n",
       "      <td>25.364735</td>\n",
       "      <td>25.723464</td>\n",
       "      <td>25.023506</td>\n",
       "      <td>25.644718</td>\n",
       "      <td>87536500</td>\n",
       "      <td>0.0</td>\n",
       "      <td>0.0</td>\n",
       "    </tr>\n",
       "    <tr>\n",
       "      <th>...</th>\n",
       "      <td>...</td>\n",
       "      <td>...</td>\n",
       "      <td>...</td>\n",
       "      <td>...</td>\n",
       "      <td>...</td>\n",
       "      <td>...</td>\n",
       "      <td>...</td>\n",
       "    </tr>\n",
       "    <tr>\n",
       "      <th>2023-03-17 00:00:00-03:00</th>\n",
       "      <td>23.100000</td>\n",
       "      <td>23.510000</td>\n",
       "      <td>22.860001</td>\n",
       "      <td>23.510000</td>\n",
       "      <td>93502700</td>\n",
       "      <td>0.0</td>\n",
       "      <td>0.0</td>\n",
       "    </tr>\n",
       "    <tr>\n",
       "      <th>2023-03-20 00:00:00-03:00</th>\n",
       "      <td>23.510000</td>\n",
       "      <td>23.650000</td>\n",
       "      <td>22.889999</td>\n",
       "      <td>22.930000</td>\n",
       "      <td>57575200</td>\n",
       "      <td>0.0</td>\n",
       "      <td>0.0</td>\n",
       "    </tr>\n",
       "    <tr>\n",
       "      <th>2023-03-21 00:00:00-03:00</th>\n",
       "      <td>23.200001</td>\n",
       "      <td>23.600000</td>\n",
       "      <td>23.080000</td>\n",
       "      <td>23.400000</td>\n",
       "      <td>43391200</td>\n",
       "      <td>0.0</td>\n",
       "      <td>0.0</td>\n",
       "    </tr>\n",
       "    <tr>\n",
       "      <th>2023-03-22 00:00:00-03:00</th>\n",
       "      <td>23.389999</td>\n",
       "      <td>23.620001</td>\n",
       "      <td>23.040001</td>\n",
       "      <td>23.330000</td>\n",
       "      <td>46435600</td>\n",
       "      <td>0.0</td>\n",
       "      <td>0.0</td>\n",
       "    </tr>\n",
       "    <tr>\n",
       "      <th>2023-03-23 00:00:00-03:00</th>\n",
       "      <td>23.370001</td>\n",
       "      <td>23.670000</td>\n",
       "      <td>22.590000</td>\n",
       "      <td>22.799999</td>\n",
       "      <td>74319100</td>\n",
       "      <td>0.0</td>\n",
       "      <td>0.0</td>\n",
       "    </tr>\n",
       "  </tbody>\n",
       "</table>\n",
       "<p>124 rows × 7 columns</p>\n",
       "</div>"
      ],
      "text/plain": [
       "                                Open       High        Low      Close  \\\n",
       "Date                                                                    \n",
       "2022-09-23 00:00:00-03:00  27.403363  27.464609  26.047195  26.195936   \n",
       "2022-09-26 00:00:00-03:00  26.003446  26.318428  25.609721  25.627220   \n",
       "2022-09-27 00:00:00-03:00  25.950950  26.143438  25.880954  25.959700   \n",
       "2022-09-28 00:00:00-03:00  25.959699  26.090941  25.006006  25.609720   \n",
       "2022-09-29 00:00:00-03:00  25.364735  25.723464  25.023506  25.644718   \n",
       "...                              ...        ...        ...        ...   \n",
       "2023-03-17 00:00:00-03:00  23.100000  23.510000  22.860001  23.510000   \n",
       "2023-03-20 00:00:00-03:00  23.510000  23.650000  22.889999  22.930000   \n",
       "2023-03-21 00:00:00-03:00  23.200001  23.600000  23.080000  23.400000   \n",
       "2023-03-22 00:00:00-03:00  23.389999  23.620001  23.040001  23.330000   \n",
       "2023-03-23 00:00:00-03:00  23.370001  23.670000  22.590000  22.799999   \n",
       "\n",
       "                              Volume  Dividends  Stock Splits  \n",
       "Date                                                           \n",
       "2022-09-23 00:00:00-03:00  138630800        0.0           0.0  \n",
       "2022-09-26 00:00:00-03:00   42934600        0.0           0.0  \n",
       "2022-09-27 00:00:00-03:00   71087600        0.0           0.0  \n",
       "2022-09-28 00:00:00-03:00  104670700        0.0           0.0  \n",
       "2022-09-29 00:00:00-03:00   87536500        0.0           0.0  \n",
       "...                              ...        ...           ...  \n",
       "2023-03-17 00:00:00-03:00   93502700        0.0           0.0  \n",
       "2023-03-20 00:00:00-03:00   57575200        0.0           0.0  \n",
       "2023-03-21 00:00:00-03:00   43391200        0.0           0.0  \n",
       "2023-03-22 00:00:00-03:00   46435600        0.0           0.0  \n",
       "2023-03-23 00:00:00-03:00   74319100        0.0           0.0  \n",
       "\n",
       "[124 rows x 7 columns]"
      ]
     },
     "execution_count": 5,
     "metadata": {},
     "output_type": "execute_result"
    }
   ],
   "source": [
    "dados.history(\"6mo\") # dados historicos dos últimos 6 meses. Sem eu colocar 6mo e deixando os parenteses vazios, por padrão ele me mostra os dados dos ultimos 30 dias. Exemplo: dados.history(). Para dados de 1 ano colocar 1y, 2 anos 2y, e por aí vai\n"
   ]
  },
  {
   "cell_type": "code",
   "execution_count": 6,
   "id": "004e8cda",
   "metadata": {},
   "outputs": [],
   "source": [
    "tabela = dados.history(\"6mo\") # guarda estes dados históricos dos ultimos 6 meses como uma variavel nomeada como tabela. \n"
   ]
  },
  {
   "cell_type": "code",
   "execution_count": 7,
   "id": "7f26b6bb",
   "metadata": {},
   "outputs": [
    {
     "data": {
      "text/plain": [
       "Date\n",
       "2022-09-23 00:00:00-03:00    26.195936\n",
       "2022-09-26 00:00:00-03:00    25.627220\n",
       "2022-09-27 00:00:00-03:00    25.959700\n",
       "2022-09-28 00:00:00-03:00    25.609720\n",
       "2022-09-29 00:00:00-03:00    25.644718\n",
       "                               ...    \n",
       "2023-03-17 00:00:00-03:00    23.510000\n",
       "2023-03-20 00:00:00-03:00    22.930000\n",
       "2023-03-21 00:00:00-03:00    23.400000\n",
       "2023-03-22 00:00:00-03:00    23.330000\n",
       "2023-03-23 00:00:00-03:00    22.799999\n",
       "Name: Close, Length: 124, dtype: float64"
      ]
     },
     "execution_count": 7,
     "metadata": {},
     "output_type": "execute_result"
    }
   ],
   "source": [
    "tabela.Close # variável tabela apenas com os dados de fechamento\n"
   ]
  },
  {
   "cell_type": "code",
   "execution_count": 8,
   "id": "b4912ece",
   "metadata": {},
   "outputs": [],
   "source": [
    "fechamento = tabela.Close # variável tabela.Close salva como fechamento\n"
   ]
  },
  {
   "cell_type": "code",
   "execution_count": 9,
   "id": "66025ab1",
   "metadata": {},
   "outputs": [
    {
     "data": {
      "text/plain": [
       "Date\n",
       "2022-09-23 00:00:00-03:00    26.195936\n",
       "2022-09-26 00:00:00-03:00    25.627220\n",
       "2022-09-27 00:00:00-03:00    25.959700\n",
       "2022-09-28 00:00:00-03:00    25.609720\n",
       "2022-09-29 00:00:00-03:00    25.644718\n",
       "                               ...    \n",
       "2023-03-17 00:00:00-03:00    23.510000\n",
       "2023-03-20 00:00:00-03:00    22.930000\n",
       "2023-03-21 00:00:00-03:00    23.400000\n",
       "2023-03-22 00:00:00-03:00    23.330000\n",
       "2023-03-23 00:00:00-03:00    22.799999\n",
       "Name: Close, Length: 124, dtype: float64"
      ]
     },
     "execution_count": 9,
     "metadata": {},
     "output_type": "execute_result"
    }
   ],
   "source": [
    "fechamento"
   ]
  },
  {
   "cell_type": "code",
   "execution_count": 10,
   "id": "8e625935",
   "metadata": {},
   "outputs": [
    {
     "data": {
      "text/plain": [
       "<AxesSubplot:xlabel='Date'>"
      ]
     },
     "execution_count": 10,
     "metadata": {},
     "output_type": "execute_result"
    },
    {
     "data": {
      "image/png": "[encoded data removed]",
      "text/plain": [
       "<Figure size 640x480 with 1 Axes>"
      ]
     },
     "metadata": {},
     "output_type": "display_data"
    }
   ],
   "source": [
    "fechamento.plot() # comando plot gera um gráfico"
   ]
  },
  {
   "cell_type": "code",
   "execution_count": 11,
   "id": "52a48762",
   "metadata": {},
   "outputs": [
    {
     "name": "stdout",
     "output_type": "stream",
     "text": [
      "Digite o código da ação desejada: PETR4.SA\n"
     ]
    },
    {
     "data": {
      "text/plain": [
       "<AxesSubplot:xlabel='Date'>"
      ]
     },
     "execution_count": 11,
     "metadata": {},
     "output_type": "execute_result"
    },
    {
     "data": {
      "image/png": "[encoded data removed]",
      "text/plain": [
       "<Figure size 640x480 with 1 Axes>"
      ]
     },
     "metadata": {},
     "output_type": "display_data"
    }
   ],
   "source": [
    "ticker = input(\"Digite o código da ação desejada: \") # Aqui buscaremos dados de fechamento de qualquer outra ação\n",
    "\n",
    "dados = yfinance.Ticker(ticker)\n",
    "\n",
    "\n",
    "fechamento.plot() # comando plot gera um gráfico"
   ]
  },
  {
   "cell_type": "markdown",
   "id": "8e23a468",
   "metadata": {},
   "source": [
    "# Passo 2 - Gerar Análises (últimos 6 meses)\n",
    "\n",
    "- Cotação máxima\n",
    "- Cotação mínima\n",
    "- Cotação atual"
   ]
  },
  {
   "cell_type": "code",
   "execution_count": 12,
   "id": "f5c26677",
   "metadata": {},
   "outputs": [
    {
     "name": "stdout",
     "output_type": "stream",
     "text": [
      "33.003028869628906\n",
      "21.469999313354492\n",
      "22.799999237060547\n"
     ]
    }
   ],
   "source": [
    "maxima = fechamento.max() #cotação máxima\n",
    "minima = fechamento.min() #cotação mínima\n",
    "atual = fechamento[-1] # cotação atual\n",
    "\n",
    "print(maxima)\n",
    "print(minima)\n",
    "print(atual)"
   ]
  },
  {
   "cell_type": "markdown",
   "id": "9a41513f",
   "metadata": {},
   "source": [
    "# Passo 3 - Enviar e-mail de forma automática\n",
    "\n",
    "- abrir uma nova aba no navegador e escrever o endereço do gmail\n",
    "- Clicar no botão escrever\n",
    "- Preencher o destinatário, assunto\n",
    "- Escrever e-mail\n",
    "- Clicar em enviar"
   ]
  },
  {
   "cell_type": "code",
   "execution_count": 13,
   "id": "5d61f00a",
   "metadata": {},
   "outputs": [
    {
     "name": "stdout",
     "output_type": "stream",
     "text": [
      "Requirement already satisfied: pyautogui in c:\\users\\tilim\\anaconda3\\lib\\site-packages (0.9.53)\n",
      "Requirement already satisfied: pyscreeze>=0.1.21 in c:\\users\\tilim\\anaconda3\\lib\\site-packages (from pyautogui) (0.1.28)\n",
      "Requirement already satisfied: pymsgbox in c:\\users\\tilim\\anaconda3\\lib\\site-packages (from pyautogui) (1.0.9)\n",
      "Requirement already satisfied: PyTweening>=1.0.1 in c:\\users\\tilim\\anaconda3\\lib\\site-packages (from pyautogui) (1.0.4)\n",
      "Requirement already satisfied: mouseinfo in c:\\users\\tilim\\anaconda3\\lib\\site-packages (from pyautogui) (0.1.3)\n",
      "Requirement already satisfied: pygetwindow>=0.0.5 in c:\\users\\tilim\\anaconda3\\lib\\site-packages (from pyautogui) (0.0.9)\n",
      "Requirement already satisfied: pyrect in c:\\users\\tilim\\anaconda3\\lib\\site-packages (from pygetwindow>=0.0.5->pyautogui) (0.2.0)\n",
      "Requirement already satisfied: pyperclip in c:\\users\\tilim\\anaconda3\\lib\\site-packages (from mouseinfo->pyautogui) (1.8.2)\n"
     ]
    }
   ],
   "source": [
    "!pip install pyautogui"
   ]
  },
  {
   "cell_type": "code",
   "execution_count": 14,
   "id": "a88f3310",
   "metadata": {},
   "outputs": [
    {
     "name": "stdout",
     "output_type": "stream",
     "text": [
      "Requirement already satisfied: pyperclip in c:\\users\\tilim\\anaconda3\\lib\\site-packages (1.8.2)\n"
     ]
    }
   ],
   "source": [
    "!pip install pyperclip"
   ]
  },
  {
   "cell_type": "code",
   "execution_count": 15,
   "id": "e765ef22",
   "metadata": {},
   "outputs": [],
   "source": [
    "import pyautogui\n",
    "import pyperclip"
   ]
  },
  {
   "cell_type": "markdown",
   "id": "ba5a52ba",
   "metadata": {},
   "source": [
    "# Passo 3 - 1: abrir uma nova aba no navegador e escrever o endereço do gmail"
   ]
  },
  {
   "cell_type": "code",
   "execution_count": 16,
   "id": "8001ffd8",
   "metadata": {},
   "outputs": [],
   "source": [
    "pyautogui.PAUSE = 2 # Este comando espera 2 segundos e vai para o próximo\n",
    "\n",
    "pyautogui.hotkey(\"ctrl\",\"t\") # Espera 2 segundos e vai para o próximo\n",
    "pyperclip.copy(\"www.gmail.com\") # Espera 2 segundos e vai para o próximo\n",
    "pyautogui.hotkey(\"ctrl\",\"v\") # Espera 2 segundos e vai para o próximo\n",
    "pyautogui.hotkey(\"enter\") # Espera 2 segundos e vai para o próximo\n",
    "\n",
    "pyautogui.click(x=81, y=175)\n",
    "\n",
    "pyperclip.copy(\"tilimasp@gmail.com\")\n",
    "pyautogui.hotkey(\"ctrl\",\"v\")\n",
    "pyautogui.hotkey(\"tab\")\n",
    "\n",
    "pyperclip.copy(\"Análises diárias\")\n",
    "pyautogui.hotkey(\"ctrl\",\"v\")\n",
    "pyautogui.hotkey(\"tab\")\n",
    "\n",
    "mensagem = f\"\"\"Boa noite,\n",
    "\n",
    "Seguem as análises dos últimos seis meses da ação {ticker}:\n",
    "\n",
    "Cotação máxima: R$ {round(maxima, 2)} \n",
    "Cotação mínima: R$ {round(minima, 2)}\n",
    "Cotação atual: R$ {round(atual, 2)}\n",
    "\n",
    "Qualquer dúvida estou à disposição!\n",
    "\n",
    "Tiago lima\n",
    "\"\"\"\n",
    "# round arredonda o valor, 2 arredonda para duas casas decimais\n",
    "    \n",
    "pyperclip.copy(mensagem)\n",
    "pyautogui.hotkey(\"ctrl\",\"v\")\n",
    "\n",
    "pyautogui.click(x=1242, y=1007)"
   ]
  },
  {
   "cell_type": "markdown",
   "id": "40b31df3",
   "metadata": {},
   "source": [
    "# Passo 3 - 2: Clicar no botão escrever"
   ]
  },
  {
   "cell_type": "code",
   "execution_count": 59,
   "id": "4b78fcfe",
   "metadata": {},
   "outputs": [
    {
     "data": {
      "text/plain": [
       "Point(x=1242, y=1007)"
      ]
     },
     "execution_count": 59,
     "metadata": {},
     "output_type": "execute_result"
    }
   ],
   "source": [
    "# estas linhas são para descobrir as coordenadas do botão escrever do gmail\n",
    "import time \n",
    "time.sleep(5) # este comando time.sleep é usado para que o comando position aguarde o tempo necessário antes da execução do código, já o pyautogui.PAUSE faz a pausa depois da execução\n",
    "pyautogui.position() # as coordenadas após encontradas devem ser colocadas no comando click que está acima"
   ]
  },
  {
   "cell_type": "code",
   "execution_count": null,
   "id": "84bad439",
   "metadata": {},
   "outputs": [],
   "source": []
  },
  {
   "cell_type": "code",
   "execution_count": null,
   "id": "b0aed189",
   "metadata": {},
   "outputs": [],
   "source": []
  }
 ],
 "metadata": {
  "kernelspec": {
   "display_name": "Python 3 (ipykernel)",
   "language": "python",
   "name": "python3"
  },
  "language_info": {
   "codemirror_mode": {
    "name": "ipython",
    "version": 3
   },
   "file_extension": ".py",
   "mimetype": "text/x-python",
   "name": "python",
   "nbconvert_exporter": "python",
   "pygments_lexer": "ipython3",
   "version": "3.9.13"
  }
 },
 "nbformat": 4,
 "nbformat_minor": 5
}
